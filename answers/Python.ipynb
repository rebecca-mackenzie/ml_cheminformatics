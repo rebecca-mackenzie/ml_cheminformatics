{
 "cells": [
  {
   "cell_type": "markdown",
   "metadata": {},
   "source": [
    "# Python\n",
    "\n",
    "Most of you will have already used python, but to make sure everyone is at the same point, please complete the following exercises."
   ]
  },
  {
   "cell_type": "markdown",
   "metadata": {},
   "source": [
    "1. Define variables.\n",
    "2. Types of variables: Sets, dictionaries, lists etc.\n",
    "3. Working with variables\n",
    "4. Writing a function, iteration\n",
    "5. List comprehension\n",
    "6. Pandas and common functions\n",
    "7. Matplotlib and common functions"
   ]
  },
  {
   "cell_type": "markdown",
   "metadata": {},
   "source": [
    "## Defining variables\n",
    "\n",
    "A variable is a defined memory location to store values. If we define a variable, it is easy to call on it repeatedly in our programming.\n",
    "\n",
    "In python, we define a variable as follows:\n",
    "\n",
    "    a = 1\n",
    "    \n",
    "Here, we have created the variable 'a', and assigned the value 1 to it. This is an integer type. There are also other types available. \n",
    "\n",
    "If you use the same variable name during creation of many variables, it will overwrite previous assignments.\n",
    "\n",
    "Create a new variable for each of the following values:\n",
    "\n",
    "    1.04\n",
    "    [1,2,3]\n",
    "    {\"a\":1, \"b\":2, \"c\":3}\n",
    "    \"hello\""
   ]
  },
  {
   "cell_type": "code",
   "execution_count": null,
   "metadata": {},
   "outputs": [],
   "source": [
    "#Work here\n"
   ]
  },
  {
   "cell_type": "markdown",
   "metadata": {},
   "source": [
    "# Types\n",
    "\n",
    "You can then use a handy 'type' function to determine what type of value your variable holds.\n",
    "\n",
    "    type(a)\n",
    "    \n",
    "What are the various types for each of the variables you created above?"
   ]
  },
  {
   "cell_type": "code",
   "execution_count": null,
   "metadata": {},
   "outputs": [],
   "source": [
    "#work here\n"
   ]
  },
  {
   "cell_type": "markdown",
   "metadata": {},
   "source": [
    "As you can see, having different types available can be very handy, you'll later see there are individual functions available for each type.\n",
    "\n",
    "Let's look at the 'dict' type. You created a variable above containing the value:\n",
    "\n",
    "    {\"a\":1, \"b\":2, \"c\":3}\n",
    "    \n",
    "The value to the left of each colon is the 'key', whilst the value to the right of each colon is a value. Together, these create key value pairs. Multiple key value pairs are combined into a dictionary using commas.\n",
    "\n",
    "It may be easier to see it written as follows:\n",
    "\n",
    "    new_dict = {\n",
    "        \"a\" : 1,\n",
    "        \"b\" : 2,\n",
    "        \"c\" : 3\n",
    "    }"
   ]
  },
  {
   "cell_type": "markdown",
   "metadata": {},
   "source": [
    "You don't have to use a string as a key, or an integer as the value. \n",
    "\n",
    "Create a dictionary in which the keys are integers, and the values are strings."
   ]
  },
  {
   "cell_type": "code",
   "execution_count": null,
   "metadata": {},
   "outputs": [],
   "source": [
    "#work here\n"
   ]
  },
  {
   "cell_type": "markdown",
   "metadata": {},
   "source": [
    "Its very easy to access keys and values within a dictionary:\n",
    "Try these out:\n",
    "\n",
    "    new_dict.keys() \n",
    "    new_dict.values()\n",
    "    new_dict[1]\n",
    "    \n",
    "If you do not have 1 as a key, replace it with another key you have used."
   ]
  },
  {
   "cell_type": "code",
   "execution_count": null,
   "metadata": {},
   "outputs": [],
   "source": [
    "#work here\n"
   ]
  },
  {
   "cell_type": "markdown",
   "metadata": {},
   "source": [
    "We can also perform transformations, for example, if we wanted to take all our dictionary values and put them into a list, we can use the 'list' function.\n",
    "\n",
    "We can also do this when assigning new variables!\n",
    "\n",
    "    list(new_dict.values())\n",
    "    \n",
    "Have a go at creating a variable containing the integer 1.\n",
    "\n",
    "Turn it into a float, using the function \n",
    "    \n",
    "    float()\n",
    "    \n",
    "Turn it back into an integer using the function\n",
    "\n",
    "    int()"
   ]
  },
  {
   "cell_type": "code",
   "execution_count": null,
   "metadata": {},
   "outputs": [],
   "source": [
    "#work here \n"
   ]
  },
  {
   "cell_type": "markdown",
   "metadata": {},
   "source": [
    "### <i>Extra info</i>\n",
    "\n",
    "If you have a list with many common values, you can create a unique 'set', which is mutable - it can be changed after being created. \n",
    "\n",
    "We won't cover the difference between mutable and immutable here, but if you are interested: https://medium.com/@meghamohan/mutable-and-immutable-side-of-python-c2145cf72747\n",
    "\n",
    "See what happens:\n",
    "\n",
    "    my_list = [1,1,2,3,3,3]\n",
    "    my_set = set(my_list)"
   ]
  },
  {
   "cell_type": "code",
   "execution_count": null,
   "metadata": {},
   "outputs": [],
   "source": [
    "#work here\n"
   ]
  },
  {
   "cell_type": "markdown",
   "metadata": {},
   "source": [
    "## Working with variables\n",
    "\n",
    "We can perform all sorts of functions on variables:\n",
    "\n",
    "    a + b\n",
    "    c / d\n",
    "    my_set.add(5)\n",
    "    my_list.append(1)\n",
    "\n",
    "Make the new variables 'a' and 'b' to contain strings, what happens when you add them?"
   ]
  },
  {
   "cell_type": "code",
   "execution_count": null,
   "metadata": {},
   "outputs": [],
   "source": [
    "#work here\n"
   ]
  },
  {
   "cell_type": "markdown",
   "metadata": {},
   "source": [
    "If you create a set:\n",
    "    \n",
    "    my_set = set([1,2,3,3])\n",
    "    \n",
    "Try to add another '2', to it. \n",
    "\n",
    "    my_set.add()\n",
    "\n",
    "What happens?\n",
    "\n",
    "Do the same with a list. \n",
    "\n",
    "    my_list.append()\n",
    "\n",
    "What happens?"
   ]
  },
  {
   "cell_type": "code",
   "execution_count": null,
   "metadata": {},
   "outputs": [],
   "source": [
    "#work here\n"
   ]
  },
  {
   "cell_type": "markdown",
   "metadata": {},
   "source": [
    "## Writing a function\n",
    "\n",
    "If we wanted to create a new function, we can do so:\n",
    "    \n",
    "    def sum_times_difference(a,b): \n",
    "        my_sum = a + b \n",
    "        my_difference = abs(a-b)\n",
    "        answer = my_sum * my_difference \n",
    "        return answer \n",
    "        \n",
    "We can then call the function:\n",
    "\n",
    "    sum_times_difference(x,y) \n",
    "    \n",
    "Note, the arguments do not have to be the same name as those given in the definition of the function.\n",
    "        \n",
    "Write this function below, and add comments (starting with a '#') to describe what is happening on each line. I've started the first for you."
   ]
  },
  {
   "cell_type": "code",
   "execution_count": null,
   "metadata": {},
   "outputs": [],
   "source": [
    "#work here\n",
    "\n",
    "def sum_times_difference(a,b): #defined sum_times_difference, taking two arguments.\n",
    "    my_sum = a + b \n",
    "    my_difference = abs(a-b)\n",
    "    answer = my_sum * my_difference \n",
    "    return answer"
   ]
  },
  {
   "cell_type": "markdown",
   "metadata": {},
   "source": [
    "If a = 1, and b = 4, what is the returned value for sum_times_difference?"
   ]
  },
  {
   "cell_type": "code",
   "execution_count": null,
   "metadata": {},
   "outputs": [],
   "source": [
    "#work here\n",
    "a = 1\n",
    "b = 4\n"
   ]
  },
  {
   "cell_type": "markdown",
   "metadata": {},
   "source": [
    "## Iteration\n",
    "\n",
    "If we have a list of values, or a range that we wish to iterate through, it is easy to do in python:\n",
    "\n",
    "    for elem in my_list:\n",
    "        print(elem)\n",
    "        \n",
    "You will notice we've started using print statements now!\n",
    "        \n",
    "Create the list 'my_list' with some values, and write the above for loop."
   ]
  },
  {
   "cell_type": "code",
   "execution_count": null,
   "metadata": {},
   "outputs": [],
   "source": [
    "#work here\n"
   ]
  },
  {
   "cell_type": "markdown",
   "metadata": {},
   "source": [
    "A shorter way to do this would be to use the built in 'range' function:\n",
    "    \n",
    "    range(0,11) \n",
    "    \n",
    "this will create a list containing all numbers from 0 up to (but not including) 11.\n",
    "\n",
    "Replace my_list with range(0,11) in the for loop. What happens?"
   ]
  },
  {
   "cell_type": "code",
   "execution_count": null,
   "metadata": {},
   "outputs": [],
   "source": [
    "#work here\n"
   ]
  },
  {
   "cell_type": "markdown",
   "metadata": {},
   "source": [
    "We can also do this with dictionaries and sets. As long as there are multiple values in the variable!\n",
    "\n",
    "    my_dict = {\"A\":1, \"B\":2, \"C\":3}\n",
    "\n",
    "    for key, val in my_dict.items():\n",
    "        print(\"Key: %s, Value: %i\" %(key,val))\n",
    "        \n",
    "We can use .items() for dictionaries to extract the keys and values at each iteration. \n",
    "\n",
    "Whereas:\n",
    "\n",
    "    for key in my_dict:\n",
    "        \n",
    "Will extract only the keys.\n",
    "And:\n",
    "\n",
    "    for val in my_dict.values():\n",
    "    \n",
    "Will extract only the values.\n",
    "\n",
    "The print statement has got more complex too. We can use % to indicate where in the string we wish to replace with a variable/value. \n",
    "\n",
    "E.g.:\n",
    "\n",
    "    \"Key %s\" %key \n",
    "    \n",
    "We are replacing %s with the variable 'key' as a string (s), we can also use integers(i), floats (f) etc.\n",
    "\n",
    "Add a line to the loop that uses sum_times_difference(val,2), and print the answer.\n",
    "\n",
    "What happens if you don't 'print'?"
   ]
  },
  {
   "cell_type": "code",
   "execution_count": null,
   "metadata": {},
   "outputs": [],
   "source": [
    "#work here\n"
   ]
  },
  {
   "cell_type": "markdown",
   "metadata": {},
   "source": [
    "## List comprehension\n",
    "\n",
    "A bit of a brain ache is list comprehensions, but can turn your for loops into single one liners.\n",
    "\n",
    "Let's look at an example:\n",
    "\n",
    "    my_list = [0,1,2,3,4,5,6]\n",
    "    [i*2 for i in my_list]\n",
    "    \n",
    "Can you tell what it is doing? Hint: read right to left. Run it in the cell below to see."
   ]
  },
  {
   "cell_type": "code",
   "execution_count": null,
   "metadata": {},
   "outputs": [],
   "source": [
    "#work here\n"
   ]
  },
  {
   "cell_type": "markdown",
   "metadata": {},
   "source": [
    "Write yourself a new function, that takes a single argument and performs the following:\n",
    "1. Squares the value and saves to a variable\n",
    "2. Cube the value and saves to a variable\n",
    "3. Sums step 1 and 2 and returns the value.\n",
    "\n",
    "You get a bonus point if you can put steps 1 and 2 into a single row!\n",
    "\n",
    "Hint, 'to the power of' can be expressed as '**', so $2^2$ becomes:\n",
    "\n",
    "    2 ** 2"
   ]
  },
  {
   "cell_type": "code",
   "execution_count": null,
   "metadata": {},
   "outputs": [],
   "source": [
    "#work here\n"
   ]
  },
  {
   "cell_type": "markdown",
   "metadata": {},
   "source": [
    "Now, write a list comprehension using\n",
    "\n",
    "    my_list = [0,1,2,3,4,5,6]\n",
    "    \n",
    "but in each iteration, call your function and print the answer!"
   ]
  },
  {
   "cell_type": "code",
   "execution_count": null,
   "metadata": {},
   "outputs": [],
   "source": [
    "#work here\n"
   ]
  },
  {
   "cell_type": "markdown",
   "metadata": {},
   "source": [
    "# Python packages (Pandas)\n",
    "\n",
    "Making python even nicer to use is the wide range of publicly available packages to use in your code.\n",
    "\n",
    "To import a package, simply write:\n",
    "\n",
    "    import N\n",
    "    \n",
    "(where N is the name of the package). Some packages become preinstalled when you install python or conda, others may need to be installed - but don't worry about this, you've already got everything you'll need!\n",
    "\n",
    "Let's have a look at pandas."
   ]
  },
  {
   "cell_type": "code",
   "execution_count": null,
   "metadata": {},
   "outputs": [],
   "source": [
    "import pandas as pd"
   ]
  },
  {
   "cell_type": "markdown",
   "metadata": {},
   "source": [
    "We like to be lazy and abbreviate some package names for ease when writing our code, pandas is typically abbreviated to 'pd'. You'll see the same with numpy ('np') and matplotlib.pyplot ('plt').\n",
    "\n",
    "[Pandas](https://pandas.pydata.org/) is a package used for data structures and data analysis. We can use it to load in data, save data to files, and perform a variety of functions on the data.\n",
    "\n",
    "Let's load in an example csv file by running the code below. .head() shows us the first 5 lines. .head(10) will show the first 10.\n",
    "\n",
    "    data = pd.read_csv(\"../example.csv\")\n",
    "    data.head()\n",
    "    \n",
    "To see other arguments for read_csv(), you can perform \n",
    "\n",
    "    help(pd.read_csv)"
   ]
  },
  {
   "cell_type": "code",
   "execution_count": 81,
   "metadata": {},
   "outputs": [],
   "source": [
    "#work here\n"
   ]
  },
  {
   "cell_type": "markdown",
   "metadata": {},
   "source": [
    "The data has been loaded as a DataFrame type. We can call .columns to find column names, and .index to find the indexes."
   ]
  },
  {
   "cell_type": "code",
   "execution_count": 82,
   "metadata": {},
   "outputs": [
    {
     "data": {
      "text/plain": [
       "Index(['Name', 'Aged', 'Height'], dtype='object')"
      ]
     },
     "execution_count": 82,
     "metadata": {},
     "output_type": "execute_result"
    }
   ],
   "source": [
    "data.columns"
   ]
  },
  {
   "cell_type": "markdown",
   "metadata": {},
   "source": [
    "Looking at the columns, we can see one is possible misspelled. 'Aged' should be 'Age'. Let's rename it. Luckily, pandas has a function for this, we can use a dictionary as an argument, and setting axis=1 (for columns), and inplace=True, we don't have to save it as a new variable."
   ]
  },
  {
   "cell_type": "code",
   "execution_count": 86,
   "metadata": {},
   "outputs": [],
   "source": [
    "data.rename({\"Aged\":\"Age\"}, axis=1, inplace=True)"
   ]
  },
  {
   "cell_type": "code",
   "execution_count": 87,
   "metadata": {},
   "outputs": [
    {
     "data": {
      "text/html": [
       "<div>\n",
       "<style scoped>\n",
       "    .dataframe tbody tr th:only-of-type {\n",
       "        vertical-align: middle;\n",
       "    }\n",
       "\n",
       "    .dataframe tbody tr th {\n",
       "        vertical-align: top;\n",
       "    }\n",
       "\n",
       "    .dataframe thead th {\n",
       "        text-align: right;\n",
       "    }\n",
       "</style>\n",
       "<table border=\"1\" class=\"dataframe\">\n",
       "  <thead>\n",
       "    <tr style=\"text-align: right;\">\n",
       "      <th></th>\n",
       "      <th>Name</th>\n",
       "      <th>Age</th>\n",
       "      <th>Height</th>\n",
       "    </tr>\n",
       "  </thead>\n",
       "  <tbody>\n",
       "    <tr>\n",
       "      <th>0</th>\n",
       "      <td>Angela</td>\n",
       "      <td>8</td>\n",
       "      <td>120</td>\n",
       "    </tr>\n",
       "    <tr>\n",
       "      <th>1</th>\n",
       "      <td>Ben</td>\n",
       "      <td>44</td>\n",
       "      <td>172</td>\n",
       "    </tr>\n",
       "    <tr>\n",
       "      <th>2</th>\n",
       "      <td>Chrissy</td>\n",
       "      <td>10</td>\n",
       "      <td>130</td>\n",
       "    </tr>\n",
       "    <tr>\n",
       "      <th>3</th>\n",
       "      <td>Dave</td>\n",
       "      <td>22</td>\n",
       "      <td>166</td>\n",
       "    </tr>\n",
       "    <tr>\n",
       "      <th>4</th>\n",
       "      <td>Edgar</td>\n",
       "      <td>14</td>\n",
       "      <td>150</td>\n",
       "    </tr>\n",
       "  </tbody>\n",
       "</table>\n",
       "</div>"
      ],
      "text/plain": [
       "      Name  Age  Height\n",
       "0   Angela    8     120\n",
       "1      Ben   44     172\n",
       "2  Chrissy   10     130\n",
       "3     Dave   22     166\n",
       "4    Edgar   14     150"
      ]
     },
     "execution_count": 87,
     "metadata": {},
     "output_type": "execute_result"
    }
   ],
   "source": [
    "data.head()"
   ]
  },
  {
   "cell_type": "markdown",
   "metadata": {},
   "source": [
    "Like a dictionary, we can call particular columns.\n",
    "\n",
    "    data[\"Age\"]\n",
    "\n",
    "Returns all 'Age' values.\n",
    "\n",
    "    data[\"Age\"].iloc[0]\n",
    "    \n",
    "Returns the age for the positional indexer 0 (the first row).\n",
    "\n",
    "    data[\"Age\"].loc[2]\n",
    "    \n",
    "Returns the age for the index 2.\n"
   ]
  },
  {
   "cell_type": "code",
   "execution_count": null,
   "metadata": {},
   "outputs": [],
   "source": [
    "#work here\n"
   ]
  },
  {
   "cell_type": "markdown",
   "metadata": {},
   "source": [
    "We can use things like 'len' and 'describe'.\n",
    "\n",
    "    len(data) \n",
    "\n",
    "returns how many rows are in the data.\n",
    "\n",
    "    data.describe() \n",
    "    \n",
    "will return statistics for numerical column types.\n",
    "\n",
    "What is the mean for age and height for this dataset?\n",
    "\n",
    "How many entries are there?"
   ]
  },
  {
   "cell_type": "code",
   "execution_count": null,
   "metadata": {},
   "outputs": [],
   "source": [
    "#work here\n"
   ]
  },
  {
   "cell_type": "markdown",
   "metadata": {},
   "source": [
    "A handy tool is .value_counts(), which will return the number of entries per unique value.\n",
    "\n",
    "    data[\"Age\"].value_counts()\n",
    "    \n",
    "Will return the age as the index, and the number of entries with Age = Index. (So how many people are of age X).\n",
    "\n",
    "How many people are aged 10?"
   ]
  },
  {
   "cell_type": "code",
   "execution_count": null,
   "metadata": {},
   "outputs": [],
   "source": [
    "#work here\n"
   ]
  }
 ],
 "metadata": {
  "kernelspec": {
   "display_name": "Python 3",
   "language": "python",
   "name": "python3"
  },
  "language_info": {
   "codemirror_mode": {
    "name": "ipython",
    "version": 3
   },
   "file_extension": ".py",
   "mimetype": "text/x-python",
   "name": "python",
   "nbconvert_exporter": "python",
   "pygments_lexer": "ipython3",
   "version": "3.6.3"
  }
 },
 "nbformat": 4,
 "nbformat_minor": 2
}
