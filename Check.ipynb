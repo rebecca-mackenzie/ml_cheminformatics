{
 "cells": [
  {
   "cell_type": "code",
   "execution_count": 1,
   "metadata": {},
   "outputs": [
    {
     "name": "stdout",
     "output_type": "stream",
     "text": [
      "Imported numpy successfully\n",
      "Imported pandas successfully\n",
      "Imported sklearn successfully\n",
      "Imported rdkit successfully\n",
      "If any of the above has failed, please contact a system administrator.\n"
     ]
    }
   ],
   "source": [
    "try:\n",
    "    import numpy\n",
    "    print(\"Imported numpy successfully\")\n",
    "except Exception as e:\n",
    "    print(e)\n",
    "    \n",
    "try:\n",
    "    import pandas\n",
    "    print(\"Imported pandas successfully\")\n",
    "except Exception as e:\n",
    "    print(e)\n",
    "    \n",
    "try:\n",
    "    import sklearn\n",
    "    print(\"Imported sklearn successfully\")\n",
    "except Exception as e:\n",
    "    print(e)\n",
    "    \n",
    "try:\n",
    "    import rdkit\n",
    "    print(\"Imported rdkit successfully\")\n",
    "except Exception as e:\n",
    "    print(e)\n",
    "        \n",
    "print(\"If any of the above has failed, please contact a system administrator.\")"
   ]
  }
 ],
 "metadata": {
  "kernelspec": {
   "display_name": "Python 3",
   "language": "python",
   "name": "python3"
  },
  "language_info": {
   "codemirror_mode": {
    "name": "ipython",
    "version": 3
   },
   "file_extension": ".py",
   "mimetype": "text/x-python",
   "name": "python",
   "nbconvert_exporter": "python",
   "pygments_lexer": "ipython3",
   "version": "3.6.3"
  }
 },
 "nbformat": 4,
 "nbformat_minor": 2
}
