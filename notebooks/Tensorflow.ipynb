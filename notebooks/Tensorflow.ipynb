{
 "cells": [
  {
   "cell_type": "markdown",
   "metadata": {},
   "source": [
    "# Can we use a neural network to predict LogS?"
   ]
  },
  {
   "cell_type": "markdown",
   "metadata": {},
   "source": [
    "Use a neural network - so all neurons in one layer are connected to all other neurons in the next layer."
   ]
  },
  {
   "cell_type": "code",
   "execution_count": 1,
   "metadata": {},
   "outputs": [],
   "source": [
    "import pandas as pd\n",
    "import numpy as np\n",
    "from sklearn.model_selection import train_test_split\n",
    "import matplotlib.pyplot as plt\n",
    "\n",
    "import tensorflow as tf\n",
    "from tensorflow.keras.models import Sequential\n",
    "from tensorflow.keras.layers import Dense"
   ]
  },
  {
   "cell_type": "code",
   "execution_count": 2,
   "metadata": {},
   "outputs": [],
   "source": [
    "train_desc = pd.read_csv(\"../data/train_desc.csv\", index_col=0)\n",
    "train = pd.read_csv(\"../data/train_nonull.csv\", index_col=0)\n",
    "train_desc[\"Y\"] = train[\"Log S\"].values"
   ]
  },
  {
   "cell_type": "markdown",
   "metadata": {},
   "source": [
    "We won't be using cross validation, so we will split our data.\n",
    "\n",
    "2/3 will become training, and 1/3 will become validation."
   ]
  },
  {
   "cell_type": "code",
   "execution_count": 3,
   "metadata": {},
   "outputs": [
    {
     "name": "stdout",
     "output_type": "stream",
     "text": [
      "570\n",
      "285\n"
     ]
    }
   ],
   "source": [
    "train, val = train_test_split(train_desc, test_size=1/3, random_state=1)\n",
    "\n",
    "tx = train[train.columns[:-1]] #all but the last column\n",
    "ty = train[\"Y\"] #the last column\n",
    "\n",
    "vx = val[val.columns[:-1]] #all but the last column\n",
    "vy = val[\"Y\"] #the last column\n",
    "\n",
    "print(len(tx))\n",
    "print(len(vx))"
   ]
  },
  {
   "cell_type": "code",
   "execution_count": 4,
   "metadata": {},
   "outputs": [],
   "source": [
    "tx = np.array(tx)\n",
    "ty = np.array(ty)\n",
    "\n",
    "vx = np.array(vx)\n",
    "vy = np.array(vy)"
   ]
  },
  {
   "cell_type": "code",
   "execution_count": 5,
   "metadata": {},
   "outputs": [
    {
     "name": "stdout",
     "output_type": "stream",
     "text": [
      "(570, 196)\n"
     ]
    }
   ],
   "source": [
    "print(tx.shape)"
   ]
  },
  {
   "cell_type": "code",
   "execution_count": 6,
   "metadata": {},
   "outputs": [],
   "source": [
    "input_shape = (196,)\n",
    "epochs = 100"
   ]
  },
  {
   "cell_type": "markdown",
   "metadata": {},
   "source": [
    "# The neural network model\n",
    "\n",
    "There are lots of hyperparameters that can have an effect on training performance. Unfortunately, we never know which are the right ones to begin with, so there's often a bit of a search in the space before we settle on the best model."
   ]
  },
  {
   "cell_type": "code",
   "execution_count": 7,
   "metadata": {},
   "outputs": [],
   "source": [
    "#parameters to change:\n",
    "activation = \"tanh\" #can be 'tanh', 'sigmoid', 'relu'\n",
    "depth = 5 #how many hidden layers there are, can be any non zero integer\n",
    "size = 0.5 #for every hidden layer, the number of neurons are multiplied by this factor. \n",
    " #0.5 means a hidden layer is reduced by half. Can be any value between 0 and 2."
   ]
  },
  {
   "cell_type": "code",
   "execution_count": 8,
   "metadata": {},
   "outputs": [
    {
     "name": "stdout",
     "output_type": "stream",
     "text": [
      "WARNING:tensorflow:From C:\\Users\\hzv37416\\AppData\\Local\\Continuum\\anaconda3\\envs\\studentml\\lib\\site-packages\\tensorflow\\python\\ops\\resource_variable_ops.py:435: colocate_with (from tensorflow.python.framework.ops) is deprecated and will be removed in a future version.\n",
      "Instructions for updating:\n",
      "Colocations handled automatically by placer.\n",
      "WARNING:tensorflow:From C:\\Users\\hzv37416\\AppData\\Local\\Continuum\\anaconda3\\envs\\studentml\\lib\\site-packages\\tensorflow\\python\\keras\\utils\\losses_utils.py:170: to_float (from tensorflow.python.ops.math_ops) is deprecated and will be removed in a future version.\n",
      "Instructions for updating:\n",
      "Use tf.cast instead.\n"
     ]
    }
   ],
   "source": [
    "### The model. Do not change this code. Any parameters you have changed above will be reflected in here.\n",
    "model = Sequential() \n",
    "model.add(Dense(units=196, activation=activation, input_shape=input_shape, kernel_initializer=\"normal\"))\n",
    "\n",
    "prev = 196\n",
    "\n",
    "#For 5 hidden layers, reduce in size by half each layer.\n",
    "for i in range(0,depth):\n",
    "    prev *= size\n",
    "    if prev > 1:\n",
    "        model.add(Dense(units=int(prev), activation=\"tanh\", kernel_initializer=\"normal\"))\n",
    "    else:\n",
    "        next\n",
    "\n",
    "#output layer - keep this code the same \n",
    "model.add(Dense(units=1, activation=\"linear\")) \n",
    "\n",
    "#optimisation and compiling:\n",
    "opt = tf.keras.optimizers.SGD(lr=0.01, momentum=0.0, decay=0.0, nesterov=False) #sgd default\n",
    "\n",
    "model.compile(loss='mean_squared_error', optimizer=opt,\n",
    "              metrics=['mae'])"
   ]
  },
  {
   "cell_type": "code",
   "execution_count": 9,
   "metadata": {},
   "outputs": [
    {
     "name": "stdout",
     "output_type": "stream",
     "text": [
      "_________________________________________________________________\n",
      "Layer (type)                 Output Shape              Param #   \n",
      "=================================================================\n",
      "dense (Dense)                (None, 196)               38612     \n",
      "_________________________________________________________________\n",
      "dense_1 (Dense)              (None, 98)                19306     \n",
      "_________________________________________________________________\n",
      "dense_2 (Dense)              (None, 49)                4851      \n",
      "_________________________________________________________________\n",
      "dense_3 (Dense)              (None, 24)                1200      \n",
      "_________________________________________________________________\n",
      "dense_4 (Dense)              (None, 12)                300       \n",
      "_________________________________________________________________\n",
      "dense_5 (Dense)              (None, 6)                 78        \n",
      "_________________________________________________________________\n",
      "dense_6 (Dense)              (None, 1)                 7         \n",
      "=================================================================\n",
      "Total params: 64,354\n",
      "Trainable params: 64,354\n",
      "Non-trainable params: 0\n",
      "_________________________________________________________________\n"
     ]
    }
   ],
   "source": [
    "model.summary()"
   ]
  },
  {
   "cell_type": "code",
   "execution_count": 10,
   "metadata": {},
   "outputs": [
    {
     "name": "stdout",
     "output_type": "stream",
     "text": [
      "Train on 570 samples, validate on 285 samples\n",
      "WARNING:tensorflow:From C:\\Users\\hzv37416\\AppData\\Local\\Continuum\\anaconda3\\envs\\studentml\\lib\\site-packages\\tensorflow\\python\\ops\\math_ops.py:3066: to_int32 (from tensorflow.python.ops.math_ops) is deprecated and will be removed in a future version.\n",
      "Instructions for updating:\n",
      "Use tf.cast instead.\n",
      "Epoch 1/100\n",
      "570/570 [==============================] - 1s 2ms/sample - loss: 6.5240 - mean_absolute_error: 1.9403 - val_loss: 4.3817 - val_mean_absolute_error: 1.5337\n",
      "Epoch 2/100\n",
      "570/570 [==============================] - 0s 156us/sample - loss: 3.6684 - mean_absolute_error: 1.4858 - val_loss: 3.0258 - val_mean_absolute_error: 1.2814\n",
      "Epoch 3/100\n",
      "570/570 [==============================] - 0s 146us/sample - loss: 2.6140 - mean_absolute_error: 1.2343 - val_loss: 2.8969 - val_mean_absolute_error: 1.2687\n",
      "Epoch 4/100\n",
      "570/570 [==============================] - 0s 152us/sample - loss: 2.5035 - mean_absolute_error: 1.2076 - val_loss: 2.7540 - val_mean_absolute_error: 1.2562\n",
      "Epoch 5/100\n",
      "570/570 [==============================] - 0s 146us/sample - loss: 2.5755 - mean_absolute_error: 1.2266 - val_loss: 2.6422 - val_mean_absolute_error: 1.2002\n",
      "Epoch 6/100\n",
      "570/570 [==============================] - 0s 144us/sample - loss: 2.8311 - mean_absolute_error: 1.2940 - val_loss: 2.9639 - val_mean_absolute_error: 1.3046\n",
      "Epoch 7/100\n",
      "570/570 [==============================] - 0s 139us/sample - loss: 2.5918 - mean_absolute_error: 1.2138 - val_loss: 2.8259 - val_mean_absolute_error: 1.2926\n",
      "Epoch 8/100\n",
      "570/570 [==============================] - 0s 143us/sample - loss: 2.4623 - mean_absolute_error: 1.1888 - val_loss: 2.5208 - val_mean_absolute_error: 1.1766\n",
      "Epoch 9/100\n",
      "570/570 [==============================] - 0s 148us/sample - loss: 2.6124 - mean_absolute_error: 1.2267 - val_loss: 2.9231 - val_mean_absolute_error: 1.3265\n",
      "Epoch 10/100\n",
      "570/570 [==============================] - 0s 168us/sample - loss: 2.4658 - mean_absolute_error: 1.1968 - val_loss: 2.5496 - val_mean_absolute_error: 1.2055\n",
      "Epoch 11/100\n",
      "570/570 [==============================] - 0s 151us/sample - loss: 2.5398 - mean_absolute_error: 1.2143 - val_loss: 3.1545 - val_mean_absolute_error: 1.4099\n",
      "Epoch 12/100\n",
      "570/570 [==============================] - 0s 144us/sample - loss: 2.6006 - mean_absolute_error: 1.2423 - val_loss: 2.7620 - val_mean_absolute_error: 1.2984\n",
      "Epoch 13/100\n",
      "570/570 [==============================] - ETA: 0s - loss: 2.5692 - mean_absolute_error: 1.201 - 0s 167us/sample - loss: 2.6463 - mean_absolute_error: 1.2488 - val_loss: 2.7984 - val_mean_absolute_error: 1.3135\n",
      "Epoch 14/100\n",
      "570/570 [==============================] - 0s 143us/sample - loss: 2.5036 - mean_absolute_error: 1.2204 - val_loss: 2.9161 - val_mean_absolute_error: 1.3077\n",
      "Epoch 15/100\n",
      "570/570 [==============================] - 0s 166us/sample - loss: 2.4999 - mean_absolute_error: 1.2169 - val_loss: 2.6527 - val_mean_absolute_error: 1.2176\n",
      "Epoch 16/100\n",
      "570/570 [==============================] - 0s 163us/sample - loss: 2.6511 - mean_absolute_error: 1.2258 - val_loss: 2.7402 - val_mean_absolute_error: 1.2126\n",
      "Epoch 17/100\n",
      "570/570 [==============================] - 0s 134us/sample - loss: 2.5447 - mean_absolute_error: 1.2190 - val_loss: 2.4219 - val_mean_absolute_error: 1.1619\n",
      "Epoch 18/100\n",
      "570/570 [==============================] - 0s 161us/sample - loss: 2.4437 - mean_absolute_error: 1.1857 - val_loss: 2.5415 - val_mean_absolute_error: 1.2120\n",
      "Epoch 19/100\n",
      "570/570 [==============================] - 0s 174us/sample - loss: 2.3571 - mean_absolute_error: 1.1700 - val_loss: 2.4224 - val_mean_absolute_error: 1.1585\n",
      "Epoch 20/100\n",
      "570/570 [==============================] - 0s 159us/sample - loss: 2.5857 - mean_absolute_error: 1.2148 - val_loss: 2.6391 - val_mean_absolute_error: 1.2220\n",
      "Epoch 21/100\n",
      "570/570 [==============================] - 0s 145us/sample - loss: 2.5069 - mean_absolute_error: 1.2225 - val_loss: 2.5199 - val_mean_absolute_error: 1.1631\n",
      "Epoch 22/100\n",
      "570/570 [==============================] - 0s 149us/sample - loss: 2.2196 - mean_absolute_error: 1.1025 - val_loss: 3.3246 - val_mean_absolute_error: 1.3528\n",
      "Epoch 23/100\n",
      "570/570 [==============================] - 0s 166us/sample - loss: 2.3635 - mean_absolute_error: 1.1746 - val_loss: 2.6934 - val_mean_absolute_error: 1.2840\n",
      "Epoch 24/100\n",
      "570/570 [==============================] - 0s 153us/sample - loss: 2.3932 - mean_absolute_error: 1.1858 - val_loss: 2.4230 - val_mean_absolute_error: 1.1748\n",
      "Epoch 25/100\n",
      "570/570 [==============================] - 0s 139us/sample - loss: 2.4220 - mean_absolute_error: 1.1877 - val_loss: 2.5931 - val_mean_absolute_error: 1.1949\n",
      "Epoch 26/100\n",
      "570/570 [==============================] - 0s 161us/sample - loss: 2.4232 - mean_absolute_error: 1.1890 - val_loss: 2.4359 - val_mean_absolute_error: 1.1686\n",
      "Epoch 27/100\n",
      "570/570 [==============================] - 0s 159us/sample - loss: 2.4564 - mean_absolute_error: 1.1954 - val_loss: 2.8921 - val_mean_absolute_error: 1.3404\n",
      "Epoch 28/100\n",
      "570/570 [==============================] - 0s 163us/sample - loss: 2.4002 - mean_absolute_error: 1.1881 - val_loss: 2.7500 - val_mean_absolute_error: 1.2823\n",
      "Epoch 29/100\n",
      "570/570 [==============================] - 0s 135us/sample - loss: 2.6760 - mean_absolute_error: 1.2596 - val_loss: 2.7634 - val_mean_absolute_error: 1.2883\n",
      "Epoch 30/100\n",
      "570/570 [==============================] - 0s 161us/sample - loss: 2.4237 - mean_absolute_error: 1.1672 - val_loss: 2.5508 - val_mean_absolute_error: 1.2080\n",
      "Epoch 31/100\n",
      "570/570 [==============================] - 0s 148us/sample - loss: 2.5130 - mean_absolute_error: 1.2008 - val_loss: 2.6959 - val_mean_absolute_error: 1.2260\n",
      "Epoch 32/100\n",
      "570/570 [==============================] - 0s 145us/sample - loss: 2.3713 - mean_absolute_error: 1.1716 - val_loss: 2.8599 - val_mean_absolute_error: 1.2087\n",
      "Epoch 33/100\n",
      "570/570 [==============================] - 0s 167us/sample - loss: 2.5877 - mean_absolute_error: 1.2175 - val_loss: 2.4925 - val_mean_absolute_error: 1.1692\n",
      "Epoch 34/100\n",
      "570/570 [==============================] - 0s 149us/sample - loss: 2.4214 - mean_absolute_error: 1.1755 - val_loss: 2.5787 - val_mean_absolute_error: 1.1818\n",
      "Epoch 35/100\n",
      "570/570 [==============================] - 0s 133us/sample - loss: 2.4090 - mean_absolute_error: 1.1820 - val_loss: 2.6521 - val_mean_absolute_error: 1.2196\n",
      "Epoch 36/100\n",
      "570/570 [==============================] - 0s 163us/sample - loss: 2.5112 - mean_absolute_error: 1.2291 - val_loss: 2.4584 - val_mean_absolute_error: 1.1557\n",
      "Epoch 37/100\n",
      "570/570 [==============================] - ETA: 0s - loss: 2.3470 - mean_absolute_error: 1.157 - 0s 143us/sample - loss: 2.3742 - mean_absolute_error: 1.1647 - val_loss: 2.6805 - val_mean_absolute_error: 1.2542\n",
      "Epoch 38/100\n",
      "570/570 [==============================] - 0s 159us/sample - loss: 2.4459 - mean_absolute_error: 1.1937 - val_loss: 2.4595 - val_mean_absolute_error: 1.1519\n",
      "Epoch 39/100\n",
      "570/570 [==============================] - 0s 148us/sample - loss: 2.2508 - mean_absolute_error: 1.1320 - val_loss: 2.5285 - val_mean_absolute_error: 1.1476\n",
      "Epoch 40/100\n",
      "570/570 [==============================] - 0s 140us/sample - loss: 2.2559 - mean_absolute_error: 1.1221 - val_loss: 3.1268 - val_mean_absolute_error: 1.4248\n",
      "Epoch 41/100\n",
      "570/570 [==============================] - 0s 159us/sample - loss: 2.4325 - mean_absolute_error: 1.1858 - val_loss: 2.6169 - val_mean_absolute_error: 1.2505\n",
      "Epoch 42/100\n",
      "570/570 [==============================] - 0s 134us/sample - loss: 2.4227 - mean_absolute_error: 1.1745 - val_loss: 2.5325 - val_mean_absolute_error: 1.2171\n",
      "Epoch 43/100\n",
      "570/570 [==============================] - 0s 124us/sample - loss: 2.2586 - mean_absolute_error: 1.1281 - val_loss: 2.4172 - val_mean_absolute_error: 1.1336\n",
      "Epoch 44/100\n",
      "570/570 [==============================] - 0s 138us/sample - loss: 2.3846 - mean_absolute_error: 1.1570 - val_loss: 2.8862 - val_mean_absolute_error: 1.3438\n",
      "Epoch 45/100\n",
      "570/570 [==============================] - 0s 159us/sample - loss: 2.6021 - mean_absolute_error: 1.2459 - val_loss: 2.6603 - val_mean_absolute_error: 1.2433\n",
      "Epoch 46/100\n"
     ]
    },
    {
     "name": "stdout",
     "output_type": "stream",
     "text": [
      "570/570 [==============================] - 0s 140us/sample - loss: 2.4737 - mean_absolute_error: 1.1933 - val_loss: 2.6456 - val_mean_absolute_error: 1.2301\n",
      "Epoch 47/100\n",
      "570/570 [==============================] - 0s 150us/sample - loss: 2.5773 - mean_absolute_error: 1.2340 - val_loss: 2.6896 - val_mean_absolute_error: 1.2754\n",
      "Epoch 48/100\n",
      "570/570 [==============================] - 0s 160us/sample - loss: 2.3776 - mean_absolute_error: 1.1767 - val_loss: 3.5122 - val_mean_absolute_error: 1.4281\n",
      "Epoch 49/100\n",
      "570/570 [==============================] - 0s 149us/sample - loss: 2.5904 - mean_absolute_error: 1.2365 - val_loss: 2.9350 - val_mean_absolute_error: 1.3043\n",
      "Epoch 50/100\n",
      "570/570 [==============================] - 0s 156us/sample - loss: 2.5166 - mean_absolute_error: 1.2112 - val_loss: 2.8382 - val_mean_absolute_error: 1.2770\n",
      "Epoch 51/100\n",
      "570/570 [==============================] - 0s 148us/sample - loss: 2.6902 - mean_absolute_error: 1.2595 - val_loss: 2.9567 - val_mean_absolute_error: 1.3654\n",
      "Epoch 52/100\n",
      "570/570 [==============================] - 0s 143us/sample - loss: 2.3761 - mean_absolute_error: 1.1742 - val_loss: 2.5493 - val_mean_absolute_error: 1.2028\n",
      "Epoch 53/100\n",
      "570/570 [==============================] - 0s 143us/sample - loss: 2.3760 - mean_absolute_error: 1.1567 - val_loss: 2.7959 - val_mean_absolute_error: 1.3153\n",
      "Epoch 54/100\n",
      "570/570 [==============================] - 0s 150us/sample - loss: 2.4924 - mean_absolute_error: 1.1942 - val_loss: 2.8202 - val_mean_absolute_error: 1.3131\n",
      "Epoch 55/100\n",
      "570/570 [==============================] - 0s 135us/sample - loss: 2.4692 - mean_absolute_error: 1.2115 - val_loss: 2.5819 - val_mean_absolute_error: 1.1858\n",
      "Epoch 56/100\n",
      "570/570 [==============================] - 0s 158us/sample - loss: 2.3886 - mean_absolute_error: 1.1565 - val_loss: 2.9527 - val_mean_absolute_error: 1.3186\n",
      "Epoch 57/100\n",
      "570/570 [==============================] - 0s 142us/sample - loss: 2.3838 - mean_absolute_error: 1.1770 - val_loss: 2.5177 - val_mean_absolute_error: 1.2083\n",
      "Epoch 58/100\n",
      "570/570 [==============================] - 0s 167us/sample - loss: 2.3825 - mean_absolute_error: 1.1766 - val_loss: 2.5255 - val_mean_absolute_error: 1.1967\n",
      "Epoch 59/100\n",
      "570/570 [==============================] - 0s 150us/sample - loss: 2.3606 - mean_absolute_error: 1.1637 - val_loss: 2.6313 - val_mean_absolute_error: 1.2157\n",
      "Epoch 60/100\n",
      "570/570 [==============================] - 0s 160us/sample - loss: 2.4607 - mean_absolute_error: 1.1975 - val_loss: 2.5886 - val_mean_absolute_error: 1.2277\n",
      "Epoch 61/100\n",
      "570/570 [==============================] - 0s 156us/sample - loss: 2.3541 - mean_absolute_error: 1.1514 - val_loss: 2.5729 - val_mean_absolute_error: 1.2314\n",
      "Epoch 62/100\n",
      "570/570 [==============================] - 0s 167us/sample - loss: 2.4935 - mean_absolute_error: 1.1963 - val_loss: 2.5944 - val_mean_absolute_error: 1.2161\n",
      "Epoch 63/100\n",
      "570/570 [==============================] - 0s 145us/sample - loss: 2.2814 - mean_absolute_error: 1.1360 - val_loss: 2.5103 - val_mean_absolute_error: 1.1987\n",
      "Epoch 64/100\n",
      "570/570 [==============================] - 0s 147us/sample - loss: 2.3613 - mean_absolute_error: 1.1560 - val_loss: 2.7870 - val_mean_absolute_error: 1.2619\n",
      "Epoch 65/100\n",
      "570/570 [==============================] - 0s 135us/sample - loss: 2.3049 - mean_absolute_error: 1.1337 - val_loss: 2.5458 - val_mean_absolute_error: 1.2054\n",
      "Epoch 66/100\n",
      "570/570 [==============================] - 0s 136us/sample - loss: 2.2967 - mean_absolute_error: 1.1405 - val_loss: 2.6415 - val_mean_absolute_error: 1.2115\n",
      "Epoch 67/100\n",
      "570/570 [==============================] - 0s 148us/sample - loss: 2.5919 - mean_absolute_error: 1.2380 - val_loss: 2.7013 - val_mean_absolute_error: 1.2879\n",
      "Epoch 68/100\n",
      "570/570 [==============================] - 0s 152us/sample - loss: 2.4145 - mean_absolute_error: 1.1923 - val_loss: 2.5975 - val_mean_absolute_error: 1.2051\n",
      "Epoch 69/100\n",
      "570/570 [==============================] - 0s 155us/sample - loss: 2.5803 - mean_absolute_error: 1.2268 - val_loss: 3.1065 - val_mean_absolute_error: 1.4205\n",
      "Epoch 70/100\n",
      "570/570 [==============================] - 0s 138us/sample - loss: 2.4008 - mean_absolute_error: 1.1781 - val_loss: 2.6067 - val_mean_absolute_error: 1.2279\n",
      "Epoch 71/100\n",
      "570/570 [==============================] - 0s 161us/sample - loss: 2.2894 - mean_absolute_error: 1.1281 - val_loss: 2.5766 - val_mean_absolute_error: 1.2421\n",
      "Epoch 72/100\n",
      "570/570 [==============================] - 0s 154us/sample - loss: 2.3218 - mean_absolute_error: 1.1485 - val_loss: 2.4225 - val_mean_absolute_error: 1.1685\n",
      "Epoch 73/100\n",
      "570/570 [==============================] - 0s 148us/sample - loss: 2.3427 - mean_absolute_error: 1.1540 - val_loss: 2.6193 - val_mean_absolute_error: 1.2223\n",
      "Epoch 74/100\n",
      "570/570 [==============================] - 0s 172us/sample - loss: 2.4043 - mean_absolute_error: 1.1672 - val_loss: 2.5556 - val_mean_absolute_error: 1.1853\n",
      "Epoch 75/100\n",
      "570/570 [==============================] - 0s 138us/sample - loss: 2.3812 - mean_absolute_error: 1.1796 - val_loss: 2.5709 - val_mean_absolute_error: 1.2350\n",
      "Epoch 76/100\n",
      "570/570 [==============================] - 0s 143us/sample - loss: 2.3588 - mean_absolute_error: 1.1703 - val_loss: 2.4922 - val_mean_absolute_error: 1.1953\n",
      "Epoch 77/100\n",
      "570/570 [==============================] - 0s 135us/sample - loss: 2.4378 - mean_absolute_error: 1.1900 - val_loss: 2.6591 - val_mean_absolute_error: 1.2888\n",
      "Epoch 78/100\n",
      "570/570 [==============================] - 0s 173us/sample - loss: 2.4343 - mean_absolute_error: 1.1828 - val_loss: 2.5028 - val_mean_absolute_error: 1.1804\n",
      "Epoch 79/100\n",
      "570/570 [==============================] - 0s 124us/sample - loss: 2.3458 - mean_absolute_error: 1.1697 - val_loss: 2.6091 - val_mean_absolute_error: 1.2292\n",
      "Epoch 80/100\n",
      "570/570 [==============================] - 0s 120us/sample - loss: 2.4213 - mean_absolute_error: 1.1867 - val_loss: 2.6912 - val_mean_absolute_error: 1.2343\n",
      "Epoch 81/100\n",
      "570/570 [==============================] - 0s 148us/sample - loss: 2.5282 - mean_absolute_error: 1.2302 - val_loss: 2.7285 - val_mean_absolute_error: 1.2475\n",
      "Epoch 82/100\n",
      "570/570 [==============================] - 0s 149us/sample - loss: 2.5055 - mean_absolute_error: 1.2162 - val_loss: 2.6568 - val_mean_absolute_error: 1.2662\n",
      "Epoch 83/100\n",
      "570/570 [==============================] - 0s 147us/sample - loss: 2.4732 - mean_absolute_error: 1.2028 - val_loss: 2.6368 - val_mean_absolute_error: 1.2396\n",
      "Epoch 84/100\n",
      "570/570 [==============================] - 0s 147us/sample - loss: 2.3927 - mean_absolute_error: 1.1737 - val_loss: 2.5261 - val_mean_absolute_error: 1.2110\n",
      "Epoch 85/100\n",
      "570/570 [==============================] - 0s 142us/sample - loss: 2.3311 - mean_absolute_error: 1.1512 - val_loss: 2.4974 - val_mean_absolute_error: 1.2117\n",
      "Epoch 86/100\n",
      "570/570 [==============================] - 0s 147us/sample - loss: 2.2665 - mean_absolute_error: 1.1383 - val_loss: 3.1574 - val_mean_absolute_error: 1.3612\n",
      "Epoch 87/100\n",
      "570/570 [==============================] - 0s 145us/sample - loss: 2.3789 - mean_absolute_error: 1.1632 - val_loss: 2.5971 - val_mean_absolute_error: 1.2412\n",
      "Epoch 88/100\n",
      "570/570 [==============================] - 0s 130us/sample - loss: 2.4011 - mean_absolute_error: 1.1850 - val_loss: 2.6613 - val_mean_absolute_error: 1.2378\n",
      "Epoch 89/100\n",
      "570/570 [==============================] - 0s 132us/sample - loss: 2.4056 - mean_absolute_error: 1.1804 - val_loss: 2.4975 - val_mean_absolute_error: 1.2032\n",
      "Epoch 90/100\n",
      "570/570 [==============================] - 0s 138us/sample - loss: 2.2569 - mean_absolute_error: 1.1330 - val_loss: 2.5806 - val_mean_absolute_error: 1.2369\n",
      "Epoch 91/100\n",
      "570/570 [==============================] - 0s 159us/sample - loss: 2.2950 - mean_absolute_error: 1.1406 - val_loss: 2.5314 - val_mean_absolute_error: 1.2098\n",
      "Epoch 92/100\n",
      "570/570 [==============================] - 0s 154us/sample - loss: 2.3684 - mean_absolute_error: 1.1873 - val_loss: 2.4646 - val_mean_absolute_error: 1.1740\n",
      "Epoch 93/100\n",
      "570/570 [==============================] - 0s 143us/sample - loss: 2.1946 - mean_absolute_error: 1.1180 - val_loss: 2.3583 - val_mean_absolute_error: 1.1598\n",
      "Epoch 94/100\n"
     ]
    },
    {
     "name": "stdout",
     "output_type": "stream",
     "text": [
      "570/570 [==============================] - 0s 146us/sample - loss: 2.2399 - mean_absolute_error: 1.1320 - val_loss: 2.5355 - val_mean_absolute_error: 1.1777\n",
      "Epoch 95/100\n",
      "570/570 [==============================] - 0s 130us/sample - loss: 2.2071 - mean_absolute_error: 1.1129 - val_loss: 2.3891 - val_mean_absolute_error: 1.1673\n",
      "Epoch 96/100\n",
      "570/570 [==============================] - 0s 151us/sample - loss: 2.2086 - mean_absolute_error: 1.1129 - val_loss: 2.4630 - val_mean_absolute_error: 1.1926\n",
      "Epoch 97/100\n",
      "570/570 [==============================] - 0s 150us/sample - loss: 2.2612 - mean_absolute_error: 1.1540 - val_loss: 2.5073 - val_mean_absolute_error: 1.1594\n",
      "Epoch 98/100\n",
      "570/570 [==============================] - 0s 165us/sample - loss: 2.1262 - mean_absolute_error: 1.0795 - val_loss: 2.3979 - val_mean_absolute_error: 1.1513\n",
      "Epoch 99/100\n",
      "570/570 [==============================] - 0s 141us/sample - loss: 2.2687 - mean_absolute_error: 1.1339 - val_loss: 2.6002 - val_mean_absolute_error: 1.2511\n",
      "Epoch 100/100\n",
      "570/570 [==============================] - 0s 151us/sample - loss: 2.4527 - mean_absolute_error: 1.1916 - val_loss: 2.4754 - val_mean_absolute_error: 1.1997\n"
     ]
    }
   ],
   "source": [
    "history = model.fit(tx,ty, validation_data=(vx,vy),\n",
    "                      epochs=epochs, verbose=1) #set verbose to 0 if you don't want to see lots of output"
   ]
  },
  {
   "cell_type": "markdown",
   "metadata": {},
   "source": [
    "# Visualise the training\n",
    "\n",
    "We hope that over a number of epochs, the model is getting better at both the training and validation sets.\n",
    "This means it is learning!"
   ]
  },
  {
   "cell_type": "code",
   "execution_count": 11,
   "metadata": {},
   "outputs": [
    {
     "data": {
      "image/png": "[encoded data removed]",
      "text/plain": [
       "<Figure size 432x288 with 1 Axes>"
      ]
     },
     "metadata": {
      "needs_background": "light"
     },
     "output_type": "display_data"
    }
   ],
   "source": [
    "plt.figure()\n",
    "plt.plot(range(1,epochs+1), history.history[\"loss\"], label=\"Train\")\n",
    "plt.plot(range(1,epochs+1), history.history[\"val_loss\"], label=\"Validation\")\n",
    "plt.legend()\n",
    "plt.show()"
   ]
  },
  {
   "cell_type": "markdown",
   "metadata": {},
   "source": [
    "# Make some predictions using your trained model"
   ]
  },
  {
   "cell_type": "code",
   "execution_count": 12,
   "metadata": {},
   "outputs": [],
   "source": [
    "# Making predictions\n",
    "\n",
    "predictions = model.predict(tx)\n",
    "val_predictions = model.predict(vx)"
   ]
  },
  {
   "cell_type": "code",
   "execution_count": 13,
   "metadata": {},
   "outputs": [],
   "source": [
    "from sklearn.metrics import r2_score, mean_squared_error"
   ]
  },
  {
   "cell_type": "code",
   "execution_count": 14,
   "metadata": {},
   "outputs": [
    {
     "name": "stdout",
     "output_type": "stream",
     "text": [
      "Training:\n",
      "0.48064553611671657\n",
      "2.246028096696529\n"
     ]
    }
   ],
   "source": [
    "print(\"Training:\")\n",
    "print(r2_score(ty, predictions))\n",
    "print(mean_squared_error(ty, predictions))"
   ]
  },
  {
   "cell_type": "code",
   "execution_count": 15,
   "metadata": {},
   "outputs": [
    {
     "name": "stdout",
     "output_type": "stream",
     "text": [
      "Validation:\n",
      "0.4193864171907459\n",
      "2.475434352287037\n"
     ]
    }
   ],
   "source": [
    "print(\"Validation:\")\n",
    "print(r2_score(vy, val_predictions))\n",
    "print(mean_squared_error(vy, val_predictions))"
   ]
  },
  {
   "cell_type": "markdown",
   "metadata": {},
   "source": [
    "# Optimising a model\n",
    "\n",
    "Go back to the model and see what effect changing different parameters has on your model? Can you improve performance at all?"
   ]
  }
 ],
 "metadata": {
  "kernelspec": {
   "display_name": "Python 3",
   "language": "python",
   "name": "python3"
  },
  "language_info": {
   "codemirror_mode": {
    "name": "ipython",
    "version": 3
   },
   "file_extension": ".py",
   "mimetype": "text/x-python",
   "name": "python",
   "nbconvert_exporter": "python",
   "pygments_lexer": "ipython3",
   "version": "3.6.3"
  }
 },
 "nbformat": 4,
 "nbformat_minor": 2
}
